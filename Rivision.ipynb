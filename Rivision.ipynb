{
 "cells": [
  {
   "cell_type": "markdown",
   "id": "eae26251",
   "metadata": {},
   "source": [
    "# Rivision"
   ]
  },
  {
   "cell_type": "code",
   "execution_count": 5,
   "id": "b49ae1f6",
   "metadata": {},
   "outputs": [
    {
     "name": "stdout",
     "output_type": "stream",
     "text": [
      "Six is lessthan 10\n"
     ]
    }
   ],
   "source": [
    "#Q1print 6 lessthan  10 if 6 <10\n",
    "if 6<10:\n",
    " print  (\"Six is lessthan 10\")"
   ]
  },
  {
   "cell_type": "code",
   "execution_count": 55,
   "id": "11c69e6d",
   "metadata": {},
   "outputs": [
    {
     "name": "stdout",
     "output_type": "stream",
     "text": [
      "Six is less than Ten\n"
     ]
    }
   ],
   "source": [
    "X=6\n",
    "Y=10\n",
    "\n",
    "if 6<10:\n",
    "    \n",
    "    print(\"Six is less than Ten\")\n"
   ]
  },
  {
   "cell_type": "code",
   "execution_count": 58,
   "id": "702fd6f0",
   "metadata": {},
   "outputs": [
    {
     "name": "stdout",
     "output_type": "stream",
     "text": [
      "<class 'float'>\n"
     ]
    }
   ],
   "source": [
    "#Q2print the data type of 6.9\n",
    "\n",
    "f=6.9\n",
    "    \n",
    "print(type(f))"
   ]
  },
  {
   "cell_type": "code",
   "execution_count": 65,
   "id": "888e3ebd",
   "metadata": {},
   "outputs": [
    {
     "name": "stdout",
     "output_type": "stream",
     "text": [
      "Niya and Filo are good friends\n"
     ]
    }
   ],
   "source": [
    "#Q3t= Niya,  y =Filo,  z= and , x= are good friends   print Niya and Filo are Good Friends\n",
    "t= \"Niya\"\n",
    "z= \"and\"\n",
    "y=\"Filo\" \n",
    "x=\"are good friends\"\n",
    "\n",
    "print(t,z,y,x)"
   ]
  },
  {
   "cell_type": "code",
   "execution_count": 18,
   "id": "0f99bf68",
   "metadata": {},
   "outputs": [
    {
     "name": "stdout",
     "output_type": "stream",
     "text": [
      "Give number:20\n"
     ]
    }
   ],
   "source": [
    "#Q4. Multiply X=20 and y = 40, you can use input fuction for this\n",
    "\n",
    "X=input(\"Give number:\")"
   ]
  },
  {
   "cell_type": "code",
   "execution_count": 19,
   "id": "d21b5320",
   "metadata": {},
   "outputs": [
    {
     "name": "stdout",
     "output_type": "stream",
     "text": [
      "Give number:40\n"
     ]
    }
   ],
   "source": [
    "Y=input(\"Give number:\")"
   ]
  },
  {
   "cell_type": "code",
   "execution_count": 27,
   "id": "d4ec15c0",
   "metadata": {},
   "outputs": [
    {
     "data": {
      "text/plain": [
       "800.0"
      ]
     },
     "execution_count": 27,
     "metadata": {},
     "output_type": "execute_result"
    }
   ],
   "source": [
    "Mul=float(X)*float(Y)\n",
    "Mul"
   ]
  },
  {
   "cell_type": "code",
   "execution_count": 29,
   "id": "631836aa",
   "metadata": {},
   "outputs": [
    {
     "name": "stdout",
     "output_type": "stream",
     "text": [
      " Multiply:800.0\n"
     ]
    }
   ],
   "source": [
    "print(\" Multiply:{0}\".format(Mul))"
   ]
  },
  {
   "cell_type": "code",
   "execution_count": 42,
   "id": "d839c2e2",
   "metadata": {},
   "outputs": [
    {
     "data": {
      "text/html": [
       "<div>\n",
       "<style scoped>\n",
       "    .dataframe tbody tr th:only-of-type {\n",
       "        vertical-align: middle;\n",
       "    }\n",
       "\n",
       "    .dataframe tbody tr th {\n",
       "        vertical-align: top;\n",
       "    }\n",
       "\n",
       "    .dataframe thead th {\n",
       "        text-align: right;\n",
       "    }\n",
       "</style>\n",
       "<table border=\"1\" class=\"dataframe\">\n",
       "  <thead>\n",
       "    <tr style=\"text-align: right;\">\n",
       "      <th></th>\n",
       "      <th>A</th>\n",
       "    </tr>\n",
       "  </thead>\n",
       "  <tbody>\n",
       "    <tr>\n",
       "      <th>0</th>\n",
       "      <td>100</td>\n",
       "    </tr>\n",
       "    <tr>\n",
       "      <th>1</th>\n",
       "      <td>234</td>\n",
       "    </tr>\n",
       "    <tr>\n",
       "      <th>2</th>\n",
       "      <td>120</td>\n",
       "    </tr>\n",
       "    <tr>\n",
       "      <th>3</th>\n",
       "      <td>111</td>\n",
       "    </tr>\n",
       "    <tr>\n",
       "      <th>4</th>\n",
       "      <td>121</td>\n",
       "    </tr>\n",
       "    <tr>\n",
       "      <th>5</th>\n",
       "      <td>201</td>\n",
       "    </tr>\n",
       "  </tbody>\n",
       "</table>\n",
       "</div>"
      ],
      "text/plain": [
       "     A\n",
       "0  100\n",
       "1  234\n",
       "2  120\n",
       "3  111\n",
       "4  121\n",
       "5  201"
      ]
     },
     "execution_count": 42,
     "metadata": {},
     "output_type": "execute_result"
    }
   ],
   "source": [
    "#Q5. create a list of data a=[100, 234, 120, 111, 121, 201], then create dataframe using this data, Also find the mean and median of this numbers\n",
    "import pandas as pd\n",
    "dict_list={\n",
    "    \n",
    "    'A':[100, 234, 120, 111, 121, 201]\n",
    "    \n",
    "}\n",
    "\n",
    "dict_list=pd.DataFrame(dict_list)\n",
    "dict_list"
   ]
  },
  {
   "cell_type": "code",
   "execution_count": 43,
   "id": "d176cda2",
   "metadata": {},
   "outputs": [
    {
     "data": {
      "text/plain": [
       "A    147.833333\n",
       "dtype: float64"
      ]
     },
     "execution_count": 43,
     "metadata": {},
     "output_type": "execute_result"
    }
   ],
   "source": [
    "#mean\n",
    "dict_list.mean()"
   ]
  },
  {
   "cell_type": "code",
   "execution_count": 44,
   "id": "a5b66994",
   "metadata": {},
   "outputs": [
    {
     "data": {
      "text/plain": [
       "A    120.5\n",
       "dtype: float64"
      ]
     },
     "execution_count": 44,
     "metadata": {},
     "output_type": "execute_result"
    }
   ],
   "source": [
    "#median\n",
    "dict_list.median()"
   ]
  },
  {
   "cell_type": "code",
   "execution_count": 105,
   "id": "5fd8e4a7",
   "metadata": {},
   "outputs": [
    {
     "data": {
      "text/html": [
       "<div>\n",
       "<style scoped>\n",
       "    .dataframe tbody tr th:only-of-type {\n",
       "        vertical-align: middle;\n",
       "    }\n",
       "\n",
       "    .dataframe tbody tr th {\n",
       "        vertical-align: top;\n",
       "    }\n",
       "\n",
       "    .dataframe thead th {\n",
       "        text-align: right;\n",
       "    }\n",
       "</style>\n",
       "<table border=\"1\" class=\"dataframe\">\n",
       "  <thead>\n",
       "    <tr style=\"text-align: right;\">\n",
       "      <th></th>\n",
       "      <th>Name of products</th>\n",
       "      <th>Model</th>\n",
       "      <th>colour</th>\n",
       "      <th>date</th>\n",
       "      <th>price</th>\n",
       "    </tr>\n",
       "  </thead>\n",
       "  <tbody>\n",
       "    <tr>\n",
       "      <th>0</th>\n",
       "      <td>LG</td>\n",
       "      <td>i5</td>\n",
       "      <td>black</td>\n",
       "      <td>2020-06-01 00:00:00</td>\n",
       "      <td>66100</td>\n",
       "    </tr>\n",
       "    <tr>\n",
       "      <th>1</th>\n",
       "      <td>DELL</td>\n",
       "      <td>i3</td>\n",
       "      <td>black</td>\n",
       "      <td>01/23/2020</td>\n",
       "      <td>37500</td>\n",
       "    </tr>\n",
       "    <tr>\n",
       "      <th>2</th>\n",
       "      <td>DELL</td>\n",
       "      <td>i5</td>\n",
       "      <td>black</td>\n",
       "      <td>2020-09-02 00:00:00</td>\n",
       "      <td>86800</td>\n",
       "    </tr>\n",
       "    <tr>\n",
       "      <th>3</th>\n",
       "      <td>LG</td>\n",
       "      <td>i7</td>\n",
       "      <td>black</td>\n",
       "      <td>2020-09-03 00:00:00</td>\n",
       "      <td>90500</td>\n",
       "    </tr>\n",
       "    <tr>\n",
       "      <th>4</th>\n",
       "      <td>HP</td>\n",
       "      <td>i7</td>\n",
       "      <td>silver</td>\n",
       "      <td>2020-09-04 00:00:00</td>\n",
       "      <td>99200</td>\n",
       "    </tr>\n",
       "    <tr>\n",
       "      <th>5</th>\n",
       "      <td>DELL</td>\n",
       "      <td>i5</td>\n",
       "      <td>matt</td>\n",
       "      <td>2020-09-05 00:00:00</td>\n",
       "      <td>48900</td>\n",
       "    </tr>\n",
       "    <tr>\n",
       "      <th>6</th>\n",
       "      <td>ASUS</td>\n",
       "      <td>i3</td>\n",
       "      <td>silver</td>\n",
       "      <td>2020-09-06 00:00:00</td>\n",
       "      <td>36000</td>\n",
       "    </tr>\n",
       "    <tr>\n",
       "      <th>7</th>\n",
       "      <td>ACER</td>\n",
       "      <td>i5</td>\n",
       "      <td>black</td>\n",
       "      <td>2020-09-07 00:00:00</td>\n",
       "      <td>55200</td>\n",
       "    </tr>\n",
       "    <tr>\n",
       "      <th>8</th>\n",
       "      <td>DELL</td>\n",
       "      <td>i5</td>\n",
       "      <td>red</td>\n",
       "      <td>2020-09-08 00:00:00</td>\n",
       "      <td>77000</td>\n",
       "    </tr>\n",
       "    <tr>\n",
       "      <th>9</th>\n",
       "      <td>HP</td>\n",
       "      <td>i5</td>\n",
       "      <td>silver</td>\n",
       "      <td>2020-09-09 00:00:00</td>\n",
       "      <td>68000</td>\n",
       "    </tr>\n",
       "    <tr>\n",
       "      <th>10</th>\n",
       "      <td>LG</td>\n",
       "      <td>i7</td>\n",
       "      <td>silver</td>\n",
       "      <td>2020-09-10 00:00:00</td>\n",
       "      <td>77600</td>\n",
       "    </tr>\n",
       "    <tr>\n",
       "      <th>11</th>\n",
       "      <td>DELL</td>\n",
       "      <td>i3</td>\n",
       "      <td>black</td>\n",
       "      <td>2020-09-11 00:00:00</td>\n",
       "      <td>39900</td>\n",
       "    </tr>\n",
       "    <tr>\n",
       "      <th>12</th>\n",
       "      <td>HP</td>\n",
       "      <td>i5</td>\n",
       "      <td>matt</td>\n",
       "      <td>2020-09-12 00:00:00</td>\n",
       "      <td>63500</td>\n",
       "    </tr>\n",
       "    <tr>\n",
       "      <th>13</th>\n",
       "      <td>HP</td>\n",
       "      <td>i5</td>\n",
       "      <td>silver</td>\n",
       "      <td>2020-09-13 00:00:00</td>\n",
       "      <td>68500</td>\n",
       "    </tr>\n",
       "    <tr>\n",
       "      <th>14</th>\n",
       "      <td>HP</td>\n",
       "      <td>i5</td>\n",
       "      <td>matt</td>\n",
       "      <td>2020-09-14 00:00:00</td>\n",
       "      <td>65400</td>\n",
       "    </tr>\n",
       "    <tr>\n",
       "      <th>15</th>\n",
       "      <td>ASUS</td>\n",
       "      <td>i5</td>\n",
       "      <td>silver</td>\n",
       "      <td>2020-09-15 00:00:00</td>\n",
       "      <td>42500</td>\n",
       "    </tr>\n",
       "    <tr>\n",
       "      <th>16</th>\n",
       "      <td>ASUS</td>\n",
       "      <td>i7</td>\n",
       "      <td>silver</td>\n",
       "      <td>2020-09-16 00:00:00</td>\n",
       "      <td>83640</td>\n",
       "    </tr>\n",
       "    <tr>\n",
       "      <th>17</th>\n",
       "      <td>HP</td>\n",
       "      <td>i7</td>\n",
       "      <td>silver</td>\n",
       "      <td>2020-09-17 00:00:00</td>\n",
       "      <td>83200</td>\n",
       "    </tr>\n",
       "    <tr>\n",
       "      <th>18</th>\n",
       "      <td>HP</td>\n",
       "      <td>i3</td>\n",
       "      <td>black</td>\n",
       "      <td>2020-09-18 00:00:00</td>\n",
       "      <td>32200</td>\n",
       "    </tr>\n",
       "    <tr>\n",
       "      <th>19</th>\n",
       "      <td>HP</td>\n",
       "      <td>i5</td>\n",
       "      <td>black</td>\n",
       "      <td>2020-09-19 00:00:00</td>\n",
       "      <td>62600</td>\n",
       "    </tr>\n",
       "    <tr>\n",
       "      <th>20</th>\n",
       "      <td>LG</td>\n",
       "      <td>i5</td>\n",
       "      <td>black</td>\n",
       "      <td>2020-09-20 00:00:00</td>\n",
       "      <td>52300</td>\n",
       "    </tr>\n",
       "    <tr>\n",
       "      <th>21</th>\n",
       "      <td>DELL</td>\n",
       "      <td>i7</td>\n",
       "      <td>black</td>\n",
       "      <td>2020-09-21 00:00:00</td>\n",
       "      <td>88200</td>\n",
       "    </tr>\n",
       "  </tbody>\n",
       "</table>\n",
       "</div>"
      ],
      "text/plain": [
       "   Name of products Model  colour                 date  price\n",
       "0                LG    i5   black  2020-06-01 00:00:00  66100\n",
       "1              DELL    i3   black           01/23/2020  37500\n",
       "2              DELL    i5   black  2020-09-02 00:00:00  86800\n",
       "3                LG    i7   black  2020-09-03 00:00:00  90500\n",
       "4                HP    i7  silver  2020-09-04 00:00:00  99200\n",
       "5              DELL    i5    matt  2020-09-05 00:00:00  48900\n",
       "6              ASUS    i3  silver  2020-09-06 00:00:00  36000\n",
       "7              ACER    i5   black  2020-09-07 00:00:00  55200\n",
       "8              DELL    i5     red  2020-09-08 00:00:00  77000\n",
       "9                HP    i5  silver  2020-09-09 00:00:00  68000\n",
       "10               LG    i7  silver  2020-09-10 00:00:00  77600\n",
       "11             DELL    i3   black  2020-09-11 00:00:00  39900\n",
       "12               HP    i5    matt  2020-09-12 00:00:00  63500\n",
       "13               HP    i5  silver  2020-09-13 00:00:00  68500\n",
       "14               HP    i5    matt  2020-09-14 00:00:00  65400\n",
       "15             ASUS    i5  silver  2020-09-15 00:00:00  42500\n",
       "16             ASUS    i7  silver  2020-09-16 00:00:00  83640\n",
       "17               HP    i7  silver  2020-09-17 00:00:00  83200\n",
       "18               HP    i3   black  2020-09-18 00:00:00  32200\n",
       "19               HP    i5   black  2020-09-19 00:00:00  62600\n",
       "20               LG    i5   black  2020-09-20 00:00:00  52300\n",
       "21             DELL    i7   black  2020-09-21 00:00:00  88200"
      ]
     },
     "execution_count": 105,
     "metadata": {},
     "output_type": "execute_result"
    }
   ],
   "source": [
    "import pandas as pd\n",
    "import numpy as np\n",
    "lap=pd.read_excel('Lap Data.xlsx')\n",
    "lap\n",
    "\n",
    "#import matplotlib.pyplot as plt"
   ]
  },
  {
   "cell_type": "code",
   "execution_count": null,
   "id": "8b7b4c67",
   "metadata": {},
   "outputs": [],
   "source": []
  },
  {
   "cell_type": "code",
   "execution_count": 47,
   "id": "7d14f11b",
   "metadata": {},
   "outputs": [
    {
     "data": {
      "text/plain": [
       "1424740"
      ]
     },
     "execution_count": 47,
     "metadata": {},
     "output_type": "execute_result"
    }
   ],
   "source": [
    "#Find total of price\n",
    "lap[\"price\"].sum()"
   ]
  },
  {
   "cell_type": "code",
   "execution_count": 48,
   "id": "1be5da00",
   "metadata": {},
   "outputs": [
    {
     "data": {
      "text/plain": [
       "64760.90909090909"
      ]
     },
     "execution_count": 48,
     "metadata": {},
     "output_type": "execute_result"
    }
   ],
   "source": [
    "# Find average pf price \n",
    "lap[\"price\"].mean()"
   ]
  },
  {
   "cell_type": "code",
   "execution_count": 49,
   "id": "f262a274",
   "metadata": {},
   "outputs": [
    {
     "data": {
      "text/plain": [
       "22"
      ]
     },
     "execution_count": 49,
     "metadata": {},
     "output_type": "execute_result"
    }
   ],
   "source": [
    "#Find Total number of name of products\n",
    "lap[\"Name of products\"].value_counts().sum()"
   ]
  },
  {
   "cell_type": "code",
   "execution_count": 66,
   "id": "6b7506b0",
   "metadata": {},
   "outputs": [
    {
     "data": {
      "text/plain": [
       "32200"
      ]
     },
     "execution_count": 66,
     "metadata": {},
     "output_type": "execute_result"
    }
   ],
   "source": [
    "#Find Minimum of price \n",
    "lap[\"price\"].min()"
   ]
  },
  {
   "cell_type": "code",
   "execution_count": 67,
   "id": "10e02150",
   "metadata": {},
   "outputs": [
    {
     "data": {
      "text/plain": [
       "99200"
      ]
     },
     "execution_count": 67,
     "metadata": {},
     "output_type": "execute_result"
    }
   ],
   "source": [
    "#Find maximum of price\n",
    "lap[\"price\"].max()"
   ]
  },
  {
   "cell_type": "code",
   "execution_count": 68,
   "id": "4ec04b79",
   "metadata": {},
   "outputs": [
    {
     "data": {
      "text/plain": [
       "65750.0"
      ]
     },
     "execution_count": 68,
     "metadata": {},
     "output_type": "execute_result"
    }
   ],
   "source": [
    "#Find meadin of price\n",
    "lap[\"price\"].median()"
   ]
  },
  {
   "cell_type": "code",
   "execution_count": 69,
   "id": "2c3aeb26",
   "metadata": {},
   "outputs": [
    {
     "name": "stdout",
     "output_type": "stream",
     "text": [
      "Average of price by black: Name of products\n",
      "ACER    55200.000000\n",
      "ASUS    54046.666667\n",
      "DELL    63050.000000\n",
      "HP      67825.000000\n",
      "LG      71625.000000\n",
      "Name: price, dtype: float64\n"
     ]
    },
    {
     "name": "stderr",
     "output_type": "stream",
     "text": [
      "C:\\Users\\91984\\AppData\\Local\\Temp\\ipykernel_16568\\1947935863.py:1: FutureWarning: The default value of numeric_only in DataFrameGroupBy.mean is deprecated. In a future version, numeric_only will default to False. Either specify numeric_only or select only columns which should be valid for the function.\n",
      "  print(\"Average of price by black:\",lap.groupby(\"Name of products\").mean()[\"price\"])\n"
     ]
    }
   ],
   "source": [
    "#Find Average of price wise by name of products.\n",
    "print(\"Average of price by black:\",lap.groupby(\"Name of products\").mean()[\"price\"])"
   ]
  },
  {
   "cell_type": "code",
   "execution_count": 73,
   "id": "a5056f5e",
   "metadata": {},
   "outputs": [
    {
     "name": "stdout",
     "output_type": "stream",
     "text": [
      "Average of price by black: Model\n",
      "i3    36400.000000\n",
      "i5    63066.666667\n",
      "i7    87056.666667\n",
      "Name: price, dtype: float64\n"
     ]
    },
    {
     "name": "stderr",
     "output_type": "stream",
     "text": [
      "C:\\Users\\91984\\AppData\\Local\\Temp\\ipykernel_16568\\2775990782.py:1: FutureWarning: The default value of numeric_only in DataFrameGroupBy.mean is deprecated. In a future version, numeric_only will default to False. Either specify numeric_only or select only columns which should be valid for the function.\n",
      "  print(\"Average of price by black:\",lap.groupby(\"Model\").mean()[\"price\"])\n"
     ]
    }
   ],
   "source": [
    "print(\"Average of price by black:\",lap.groupby(\"Model\").mean()[\"price\"])"
   ]
  },
  {
   "cell_type": "code",
   "execution_count": 70,
   "id": "99fb1189",
   "metadata": {},
   "outputs": [
    {
     "name": "stdout",
     "output_type": "stream",
     "text": [
      "Average of price by black: Name of products\n",
      "ACER     55200\n",
      "ASUS    162140\n",
      "DELL    378300\n",
      "HP      542600\n",
      "LG      286500\n",
      "Name: price, dtype: int64\n"
     ]
    },
    {
     "name": "stderr",
     "output_type": "stream",
     "text": [
      "C:\\Users\\91984\\AppData\\Local\\Temp\\ipykernel_16568\\1190966344.py:1: FutureWarning: The default value of numeric_only in DataFrameGroupBy.sum is deprecated. In a future version, numeric_only will default to False. Either specify numeric_only or select only columns which should be valid for the function.\n",
      "  print(\"Average of price by black:\",lap.groupby(\"Name of products\").sum()[\"price\"])\n"
     ]
    }
   ],
   "source": [
    "print(\"Average of price by black:\",lap.groupby(\"Name of products\").sum()[\"price\"])"
   ]
  },
  {
   "cell_type": "code",
   "execution_count": 74,
   "id": "a2ad89b8",
   "metadata": {},
   "outputs": [
    {
     "name": "stdout",
     "output_type": "stream",
     "text": [
      "Average of price by black: Model\n",
      "i3    145600\n",
      "i5    756800\n",
      "i7    522340\n",
      "Name: price, dtype: int64\n"
     ]
    },
    {
     "name": "stderr",
     "output_type": "stream",
     "text": [
      "C:\\Users\\91984\\AppData\\Local\\Temp\\ipykernel_16568\\1241462922.py:1: FutureWarning: The default value of numeric_only in DataFrameGroupBy.sum is deprecated. In a future version, numeric_only will default to False. Either specify numeric_only or select only columns which should be valid for the function.\n",
      "  print(\"Average of price by black:\",lap.groupby(\"Model\").sum()[\"price\"])\n"
     ]
    }
   ],
   "source": [
    "print(\"Average of price by black:\",lap.groupby(\"Model\").sum()[\"price\"])"
   ]
  },
  {
   "cell_type": "code",
   "execution_count": 71,
   "id": "eb5e315a",
   "metadata": {},
   "outputs": [
    {
     "name": "stdout",
     "output_type": "stream",
     "text": [
      "Average of price by black: Name of products\n",
      "ACER    55200\n",
      "ASUS    83640\n",
      "DELL    88200\n",
      "HP      99200\n",
      "LG      90500\n",
      "Name: price, dtype: int64\n"
     ]
    },
    {
     "name": "stderr",
     "output_type": "stream",
     "text": [
      "C:\\Users\\91984\\AppData\\Local\\Temp\\ipykernel_16568\\3947256731.py:1: FutureWarning: Dropping invalid columns in DataFrameGroupBy.max is deprecated. In a future version, a TypeError will be raised. Before calling .max, select only columns which should be valid for the function.\n",
      "  print(\"Average of price by black:\",lap.groupby(\"Name of products\").max()[\"price\"])\n"
     ]
    }
   ],
   "source": [
    "print(\"Average of price by black:\",lap.groupby(\"Name of products\").max()[\"price\"])\n"
   ]
  },
  {
   "cell_type": "code",
   "execution_count": 75,
   "id": "f16ad95a",
   "metadata": {},
   "outputs": [
    {
     "name": "stdout",
     "output_type": "stream",
     "text": [
      "Average of price by black: Model\n",
      "i3    39900\n",
      "i5    86800\n",
      "i7    99200\n",
      "Name: price, dtype: int64\n"
     ]
    },
    {
     "name": "stderr",
     "output_type": "stream",
     "text": [
      "C:\\Users\\91984\\AppData\\Local\\Temp\\ipykernel_16568\\29154541.py:1: FutureWarning: Dropping invalid columns in DataFrameGroupBy.max is deprecated. In a future version, a TypeError will be raised. Before calling .max, select only columns which should be valid for the function.\n",
      "  print(\"Average of price by black:\",lap.groupby(\"Model\").max()[\"price\"])\n"
     ]
    }
   ],
   "source": [
    "print(\"Average of price by black:\",lap.groupby(\"Model\").max()[\"price\"])"
   ]
  },
  {
   "cell_type": "code",
   "execution_count": 72,
   "id": "80c6dd3b",
   "metadata": {},
   "outputs": [
    {
     "name": "stdout",
     "output_type": "stream",
     "text": [
      "Average of price by black: Name of products\n",
      "ACER    55200\n",
      "ASUS    36000\n",
      "DELL    37500\n",
      "HP      32200\n",
      "LG      52300\n",
      "Name: price, dtype: int64\n"
     ]
    },
    {
     "name": "stderr",
     "output_type": "stream",
     "text": [
      "C:\\Users\\91984\\AppData\\Local\\Temp\\ipykernel_16568\\3521215685.py:1: FutureWarning: Dropping invalid columns in DataFrameGroupBy.min is deprecated. In a future version, a TypeError will be raised. Before calling .min, select only columns which should be valid for the function.\n",
      "  print(\"Average of price by black:\",lap.groupby(\"Name of products\").min()[\"price\"])\n"
     ]
    }
   ],
   "source": [
    "print(\"Average of price by black:\",lap.groupby(\"Name of products\").min()[\"price\"])"
   ]
  },
  {
   "cell_type": "code",
   "execution_count": 76,
   "id": "fcd91b5e",
   "metadata": {},
   "outputs": [
    {
     "name": "stdout",
     "output_type": "stream",
     "text": [
      "Average of price by black: Model\n",
      "i3    32200\n",
      "i5    42500\n",
      "i7    77600\n",
      "Name: price, dtype: int64\n"
     ]
    },
    {
     "name": "stderr",
     "output_type": "stream",
     "text": [
      "C:\\Users\\91984\\AppData\\Local\\Temp\\ipykernel_16568\\856231429.py:1: FutureWarning: Dropping invalid columns in DataFrameGroupBy.min is deprecated. In a future version, a TypeError will be raised. Before calling .min, select only columns which should be valid for the function.\n",
      "  print(\"Average of price by black:\",lap.groupby(\"Model\").min()[\"price\"])\n"
     ]
    }
   ],
   "source": [
    "print(\"Average of price by black:\",lap.groupby(\"Model\").min()[\"price\"])"
   ]
  },
  {
   "cell_type": "code",
   "execution_count": 81,
   "id": "54d12c82",
   "metadata": {},
   "outputs": [
    {
     "name": "stdout",
     "output_type": "stream",
     "text": [
      "Total Q1 of price: 49750.0\n"
     ]
    }
   ],
   "source": [
    "print (\"Total Q1 of price:\",lap['price'].quantile(0.25))"
   ]
  },
  {
   "cell_type": "code",
   "execution_count": 83,
   "id": "1e08ce24",
   "metadata": {},
   "outputs": [
    {
     "name": "stdout",
     "output_type": "stream",
     "text": [
      "Total Q2 of price: 65750.0\n"
     ]
    }
   ],
   "source": [
    "print (\"Total Q2 of price:\",lap['price'].quantile(0.50))"
   ]
  },
  {
   "cell_type": "code",
   "execution_count": 84,
   "id": "41fbc44e",
   "metadata": {},
   "outputs": [
    {
     "name": "stdout",
     "output_type": "stream",
     "text": [
      "Total Q2 of price: 81800.0\n"
     ]
    }
   ],
   "source": [
    "print (\"Total Q2 of price:\",lap['price'].quantile(0.75))"
   ]
  },
  {
   "cell_type": "code",
   "execution_count": 132,
   "id": "893b718d",
   "metadata": {},
   "outputs": [
    {
     "name": "stderr",
     "output_type": "stream",
     "text": [
      "C:\\Users\\91984\\AppData\\Local\\Temp\\ipykernel_16568\\4092289026.py:1: FutureWarning: The default value of numeric_only in DataFrameGroupBy.sum is deprecated. In a future version, numeric_only will default to False. Either specify numeric_only or select only columns which should be valid for the function.\n",
      "  lap.groupby(\"Name of products\").sum()[\"price\"].plot(kind='bar')\n"
     ]
    },
    {
     "data": {
      "text/plain": [
       "Text(0.5, 1.0, 'Name of Products')"
      ]
     },
     "execution_count": 132,
     "metadata": {},
     "output_type": "execute_result"
    },
    {
     "data": {
      "image/png": "[encoded data removed]",
      "text/plain": [
       "<Figure size 640x480 with 1 Axes>"
      ]
     },
     "metadata": {},
     "output_type": "display_data"
    }
   ],
   "source": [
    "lap.groupby(\"Name of products\").sum()[\"price\"].plot(kind='bar')\n",
    "plt.title(\"Name of Products\")"
   ]
  },
  {
   "cell_type": "code",
   "execution_count": 131,
   "id": "98550d4f",
   "metadata": {},
   "outputs": [
    {
     "name": "stderr",
     "output_type": "stream",
     "text": [
      "C:\\Users\\91984\\AppData\\Local\\Temp\\ipykernel_16568\\3678468920.py:1: FutureWarning: The default value of numeric_only in DataFrameGroupBy.sum is deprecated. In a future version, numeric_only will default to False. Either specify numeric_only or select only columns which should be valid for the function.\n",
      "  lap.groupby(\"Name of products\").sum()[\"price\"].plot(kind='barh')\n"
     ]
    },
    {
     "data": {
      "text/plain": [
       "Text(0.5, 1.0, 'Name of Products')"
      ]
     },
     "execution_count": 131,
     "metadata": {},
     "output_type": "execute_result"
    },
    {
     "data": {
      "image/png": "[encoded data removed]",
      "text/plain": [
       "<Figure size 640x480 with 1 Axes>"
      ]
     },
     "metadata": {},
     "output_type": "display_data"
    }
   ],
   "source": [
    "lap.groupby(\"Name of products\").sum()[\"price\"].plot(kind='barh')\n",
    "plt.title(\"Name of Products\")"
   ]
  },
  {
   "cell_type": "code",
   "execution_count": 130,
   "id": "91aae26f",
   "metadata": {},
   "outputs": [
    {
     "name": "stderr",
     "output_type": "stream",
     "text": [
      "C:\\Users\\91984\\AppData\\Local\\Temp\\ipykernel_16568\\3868686740.py:1: FutureWarning: The default value of numeric_only in DataFrameGroupBy.sum is deprecated. In a future version, numeric_only will default to False. Either specify numeric_only or select only columns which should be valid for the function.\n",
      "  lap.groupby(\"Name of products\").sum()[\"price\"].plot(kind='pie',autopct='%1.2f%%')\n"
     ]
    },
    {
     "data": {
      "text/plain": [
       "Text(0.5, 1.0, 'Name of Products')"
      ]
     },
     "execution_count": 130,
     "metadata": {},
     "output_type": "execute_result"
    },
    {
     "data": {
      "image/png": "[encoded data removed]",
      "text/plain": [
       "<Figure size 640x480 with 1 Axes>"
      ]
     },
     "metadata": {},
     "output_type": "display_data"
    }
   ],
   "source": [
    "lap.groupby(\"Name of products\").sum()[\"price\"].plot(kind='pie',autopct='%1.2f%%')\n",
    "plt.title(\"Name of Products\")"
   ]
  },
  {
   "cell_type": "code",
   "execution_count": 110,
   "id": "e1d42f45",
   "metadata": {},
   "outputs": [
    {
     "name": "stderr",
     "output_type": "stream",
     "text": [
      "C:\\Users\\91984\\AppData\\Local\\Temp\\ipykernel_16568\\3269072311.py:1: FutureWarning: The default value of numeric_only in DataFrameGroupBy.sum is deprecated. In a future version, numeric_only will default to False. Either specify numeric_only or select only columns which should be valid for the function.\n",
      "  lap.groupby(\"Model\").sum()[\"price\"].plot(kind='bar',color=\"orange\")\n"
     ]
    },
    {
     "data": {
      "text/plain": [
       "<Axes: xlabel='Model'>"
      ]
     },
     "execution_count": 110,
     "metadata": {},
     "output_type": "execute_result"
    },
    {
     "data": {
      "image/png": "[encoded data removed]",
      "text/plain": [
       "<Figure size 640x480 with 1 Axes>"
      ]
     },
     "metadata": {},
     "output_type": "display_data"
    }
   ],
   "source": [
    "\n",
    "lap.groupby(\"Model\").sum()[\"price\"].plot(kind='bar',color=\"orange\")"
   ]
  },
  {
   "cell_type": "code",
   "execution_count": 129,
   "id": "01bf9530",
   "metadata": {},
   "outputs": [
    {
     "name": "stderr",
     "output_type": "stream",
     "text": [
      "C:\\Users\\91984\\AppData\\Local\\Temp\\ipykernel_16568\\3115640512.py:1: FutureWarning: The default value of numeric_only in DataFrameGroupBy.sum is deprecated. In a future version, numeric_only will default to False. Either specify numeric_only or select only columns which should be valid for the function.\n",
      "  lap.groupby(\"Model\").sum()[\"price\"].plot(kind='pie',autopct='%1.2f%%')\n"
     ]
    },
    {
     "data": {
      "text/plain": [
       "Text(0.5, 1.0, 'Model of Price')"
      ]
     },
     "execution_count": 129,
     "metadata": {},
     "output_type": "execute_result"
    },
    {
     "data": {
      "image/png": "[encoded data removed]",
      "text/plain": [
       "<Figure size 640x480 with 1 Axes>"
      ]
     },
     "metadata": {},
     "output_type": "display_data"
    }
   ],
   "source": [
    "lap.groupby(\"Model\").sum()[\"price\"].plot(kind='pie',autopct='%1.2f%%')\n",
    "plt.title(\"Model of Price\")"
   ]
  },
  {
   "cell_type": "code",
   "execution_count": 112,
   "id": "ebbebca2",
   "metadata": {},
   "outputs": [],
   "source": [
    "#lap.groupby(\"Model\").sum()[\"price\"].plot(kind='line',color='red')\n",
    "\n",
    "#plt.show()"
   ]
  },
  {
   "cell_type": "code",
   "execution_count": 120,
   "id": "ee4fff1f",
   "metadata": {},
   "outputs": [
    {
     "data": {
      "text/plain": [
       "Text(0.5, 1.0, 'Lap Data')"
      ]
     },
     "execution_count": 120,
     "metadata": {},
     "output_type": "execute_result"
    },
    {
     "data": {
      "image/png": "[encoded data removed]",
      "text/plain": [
       "<Figure size 640x480 with 1 Axes>"
      ]
     },
     "metadata": {},
     "output_type": "display_data"
    }
   ],
   "source": [
    "lap.plot('date','price',fontsize=5,color='r');\n",
    "plt.title(\"Lap Data\")"
   ]
  },
  {
   "cell_type": "code",
   "execution_count": 128,
   "id": "2bf90eb9",
   "metadata": {},
   "outputs": [
    {
     "data": {
      "text/plain": [
       "Text(0.5, 1.0, 'BOX')"
      ]
     },
     "execution_count": 128,
     "metadata": {},
     "output_type": "execute_result"
    },
    {
     "data": {
      "image/png": "[encoded data removed]",
      "text/plain": [
       "<Figure size 640x480 with 1 Axes>"
      ]
     },
     "metadata": {},
     "output_type": "display_data"
    }
   ],
   "source": [
    "lap.plot(y=['price'],kind='box',color='orange')\n",
    "plt.title(\"BOX\")"
   ]
  },
  {
   "cell_type": "code",
   "execution_count": null,
   "id": "72dbfacb",
   "metadata": {},
   "outputs": [],
   "source": []
  }
 ],
 "metadata": {
  "kernelspec": {
   "display_name": "Python 3 (ipykernel)",
   "language": "python",
   "name": "python3"
  },
  "language_info": {
   "codemirror_mode": {
    "name": "ipython",
    "version": 3
   },
   "file_extension": ".py",
   "mimetype": "text/x-python",
   "name": "python",
   "nbconvert_exporter": "python",
   "pygments_lexer": "ipython3",
   "version": "3.10.9"
  }
 },
 "nbformat": 4,
 "nbformat_minor": 5
}
